{
 "cells": [
  {
   "cell_type": "code",
   "execution_count": 12,
   "id": "bf58bba0",
   "metadata": {},
   "outputs": [],
   "source": [
    "from ESRNN.m4_data import prepare_m4_data\n",
    "from ESRNN.utils_evaluation import evaluate_prediction_owa\n",
    "\n",
    "from ESRNN import ESRNN\n",
    "model = ESRNN(max_epochs=25, freq_of_test=5, batch_size=4, learning_rate=1e-4,\n",
    "              per_series_lr_multip=0.8, lr_scheduler_step_size=10,\n",
    "              lr_decay=0.1, gradient_clipping_threshold=50,\n",
    "              rnn_weight_decay=0.0, level_variability_penalty=100,\n",
    "              testing_percentile=50, training_percentile=50,\n",
    "              ensemble=False, max_periods=25, seasonality=[],\n",
    "              input_size=4, output_size=6,\n",
    "              cell_type='LSTM', state_hsize=40,\n",
    "              dilations=[[1], [6]], add_nl_layer=False,\n",
    "              random_seed=1, device='cpu')\n",
    "\n",
    "\n"
   ]
  },
  {
   "cell_type": "code",
   "execution_count": 14,
   "id": "1f896314",
   "metadata": {},
   "outputs": [
    {
     "ename": "FileNotFoundError",
     "evalue": "[Errno 2] No such file or directory: './data/m4'",
     "output_type": "error",
     "traceback": [
      "\u001b[0;31m---------------------------------------------------------------------------\u001b[0m",
      "\u001b[0;31mFileNotFoundError\u001b[0m                         Traceback (most recent call last)",
      "Input \u001b[0;32mIn [14]\u001b[0m, in \u001b[0;36m<cell line: 1>\u001b[0;34m()\u001b[0m\n\u001b[0;32m----> 1\u001b[0m X_train_df, y_train_df, X_test_df, y_test_df \u001b[38;5;241m=\u001b[39m \u001b[43mprepare_m4_data\u001b[49m\u001b[43m(\u001b[49m\u001b[43mdataset_name\u001b[49m\u001b[38;5;241;43m=\u001b[39;49m\u001b[38;5;124;43m'\u001b[39;49m\u001b[38;5;124;43mYearly\u001b[39;49m\u001b[38;5;124;43m'\u001b[39;49m\u001b[43m,\u001b[49m\n\u001b[1;32m      2\u001b[0m \u001b[43m                                                               \u001b[49m\u001b[43mdirectory\u001b[49m\u001b[43m \u001b[49m\u001b[38;5;241;43m=\u001b[39;49m\u001b[43m \u001b[49m\u001b[38;5;124;43m'\u001b[39;49m\u001b[38;5;124;43m./data\u001b[39;49m\u001b[38;5;124;43m'\u001b[39;49m\u001b[43m,\u001b[49m\n\u001b[1;32m      3\u001b[0m \u001b[43m                                                               \u001b[49m\u001b[43mnum_obs\u001b[49m\u001b[38;5;241;43m=\u001b[39;49m\u001b[38;5;241;43m1000\u001b[39;49m\u001b[43m)\u001b[49m\n",
      "File \u001b[0;32m~/opt/anaconda3/lib/python3.9/site-packages/ESRNN/m4_data.py:208\u001b[0m, in \u001b[0;36mprepare_m4_data\u001b[0;34m(dataset_name, directory, num_obs)\u001b[0m\n\u001b[1;32m    193\u001b[0m \u001b[38;5;28;01mdef\u001b[39;00m \u001b[38;5;21mprepare_m4_data\u001b[39m(dataset_name, directory, num_obs):\n\u001b[1;32m    194\u001b[0m   \u001b[38;5;124;03m\"\"\"\u001b[39;00m\n\u001b[1;32m    195\u001b[0m \u001b[38;5;124;03m  Pipeline that obtains M4 times series, tranforms it and gets naive2 predictions.\u001b[39;00m\n\u001b[1;32m    196\u001b[0m \n\u001b[0;32m   (...)\u001b[0m\n\u001b[1;32m    206\u001b[0m \u001b[38;5;124;03m    whether use python or r predictions\u001b[39;00m\n\u001b[1;32m    207\u001b[0m \u001b[38;5;124;03m  \"\"\"\u001b[39;00m\n\u001b[0;32m--> 208\u001b[0m   m4info_filename \u001b[38;5;241m=\u001b[39m \u001b[43mmaybe_download\u001b[49m\u001b[43m(\u001b[49m\u001b[38;5;124;43m'\u001b[39;49m\u001b[38;5;124;43mM4-info.csv\u001b[39;49m\u001b[38;5;124;43m'\u001b[39;49m\u001b[43m,\u001b[49m\u001b[43m \u001b[49m\u001b[43mdirectory\u001b[49m\u001b[43m)\u001b[49m\n\u001b[1;32m    210\u001b[0m   dailytrain_filename \u001b[38;5;241m=\u001b[39m maybe_download(\u001b[38;5;124m'\u001b[39m\u001b[38;5;124mTrain/Daily-train.csv\u001b[39m\u001b[38;5;124m'\u001b[39m, directory)\n\u001b[1;32m    211\u001b[0m   hourlytrain_filename \u001b[38;5;241m=\u001b[39m maybe_download(\u001b[38;5;124m'\u001b[39m\u001b[38;5;124mTrain/Hourly-train.csv\u001b[39m\u001b[38;5;124m'\u001b[39m, directory)\n",
      "File \u001b[0;32m~/opt/anaconda3/lib/python3.9/site-packages/ESRNN/m4_data.py:43\u001b[0m, in \u001b[0;36mmaybe_download\u001b[0;34m(filename, directory)\u001b[0m\n\u001b[1;32m     40\u001b[0m test_directory \u001b[38;5;241m=\u001b[39m data_directory \u001b[38;5;241m+\u001b[39m \u001b[38;5;124m\"\u001b[39m\u001b[38;5;124m/Test/\u001b[39m\u001b[38;5;124m\"\u001b[39m\n\u001b[1;32m     42\u001b[0m \u001b[38;5;28;01mif\u001b[39;00m \u001b[38;5;129;01mnot\u001b[39;00m os\u001b[38;5;241m.\u001b[39mpath\u001b[38;5;241m.\u001b[39mexists(data_directory):\n\u001b[0;32m---> 43\u001b[0m   \u001b[43mos\u001b[49m\u001b[38;5;241;43m.\u001b[39;49m\u001b[43mmkdir\u001b[49m\u001b[43m(\u001b[49m\u001b[43mdata_directory\u001b[49m\u001b[43m)\u001b[49m\n\u001b[1;32m     44\u001b[0m \u001b[38;5;28;01mif\u001b[39;00m \u001b[38;5;129;01mnot\u001b[39;00m os\u001b[38;5;241m.\u001b[39mpath\u001b[38;5;241m.\u001b[39mexists(train_directory):\n\u001b[1;32m     45\u001b[0m   os\u001b[38;5;241m.\u001b[39mmkdir(train_directory)\n",
      "\u001b[0;31mFileNotFoundError\u001b[0m: [Errno 2] No such file or directory: './data/m4'"
     ]
    }
   ],
   "source": [
    "X_train_df, y_train_df, X_test_df, y_test_df = prepare_m4_data(dataset_name='Yearly',\n",
    "                                                               directory = './data',\n",
    "                                                               num_obs=1000)"
   ]
  },
  {
   "cell_type": "code",
   "execution_count": 10,
   "id": "863b5c9b",
   "metadata": {},
   "outputs": [],
   "source": [
    "from ESRNN.m4_data import prepare_m4_data"
   ]
  },
  {
   "cell_type": "code",
   "execution_count": 7,
   "id": "4e6cbfe1",
   "metadata": {},
   "outputs": [
    {
     "ename": "TypeError",
     "evalue": "'NoneType' object is not callable",
     "output_type": "error",
     "traceback": [
      "\u001b[0;31m---------------------------------------------------------------------------\u001b[0m",
      "\u001b[0;31mTypeError\u001b[0m                                 Traceback (most recent call last)",
      "Input \u001b[0;32mIn [7]\u001b[0m, in \u001b[0;36m<cell line: 1>\u001b[0;34m()\u001b[0m\n\u001b[0;32m----> 1\u001b[0m \u001b[43mESRNN\u001b[49m\u001b[38;5;241;43m.\u001b[39;49m\u001b[38;5;18;43m__doc__\u001b[39;49m\u001b[43m(\u001b[49m\u001b[43m)\u001b[49m\n",
      "\u001b[0;31mTypeError\u001b[0m: 'NoneType' object is not callable"
     ]
    }
   ],
   "source": [
    "ESRNN.__doc__()"
   ]
  }
 ],
 "metadata": {
  "kernelspec": {
   "display_name": "Python 3 (ipykernel)",
   "language": "python",
   "name": "python3"
  },
  "language_info": {
   "codemirror_mode": {
    "name": "ipython",
    "version": 3
   },
   "file_extension": ".py",
   "mimetype": "text/x-python",
   "name": "python",
   "nbconvert_exporter": "python",
   "pygments_lexer": "ipython3",
   "version": "3.9.12"
  }
 },
 "nbformat": 4,
 "nbformat_minor": 5
}
